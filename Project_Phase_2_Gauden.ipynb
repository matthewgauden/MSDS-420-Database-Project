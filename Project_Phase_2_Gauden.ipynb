{
 "cells": [
  {
   "cell_type": "markdown",
   "id": "4abbe24f",
   "metadata": {},
   "source": [
    "<div class=\"alert alert-block alert-success\">\n",
    "\n",
    "# <center>  </center>\n",
    "# <center> Amazon Appliances' Reviews </center>\n",
    "### <center> Extract Reviews and Metadata</center>\n",
    "#### <center> JSON/CSV files</center>\n",
    "\n",
    "**Author: Atef Bader, PhD**\n",
    "    \n",
    "**Last Edit: 2/15/2024**  \n",
    "\n",
    "</div>"
   ]
  },
  {
   "cell_type": "code",
   "execution_count": 1,
   "id": "7ede131b",
   "metadata": {},
   "outputs": [],
   "source": [
    "import json\n",
    "import ast\n",
    "from pandas import DataFrame, Series      \n"
   ]
  },
  {
   "cell_type": "code",
   "execution_count": 2,
   "id": "f91e7ea0",
   "metadata": {},
   "outputs": [],
   "source": [
    "\n",
    "fr=open(\"meta_Appliances.json\")\n",
    "fw=open(\"Amazon_Appliances_Metadata.json\", \"w\")\n",
    "\n",
    "for line in fr:\n",
    "    json_dat = json.dumps(ast.literal_eval(line))\n",
    "    dict_dat = json.loads(json_dat)\n",
    "    json.dump(dict_dat, fw)\n",
    "    fw.write(\"\\n\")\n",
    "\n",
    "fw.close()\n",
    "fr.close()\n"
   ]
  },
  {
   "cell_type": "code",
   "execution_count": 3,
   "id": "9ca011a1",
   "metadata": {},
   "outputs": [],
   "source": [
    "\n",
    "fr=open(\"reviews_Appliances.json\")\n",
    "fw=open(\"Amazon_Appliances_Reviews.json\", \"w\")\n",
    "\n",
    "for line in fr:\n",
    "    json_dat = json.dumps(ast.literal_eval(line))\n",
    "    dict_dat = json.loads(json_dat)\n",
    "    json.dump(dict_dat, fw)\n",
    "    fw.write(\"\\n\")\n",
    "\n",
    "fw.close()\n",
    "fr.close()\n"
   ]
  },
  {
   "cell_type": "code",
   "execution_count": 4,
   "id": "846b82f8",
   "metadata": {},
   "outputs": [],
   "source": [
    "\n",
    "list_of_appliances_metadata_dict_data = [json.loads(line) for line in open('Amazon_Appliances_Metadata.json')]"
   ]
  },
  {
   "cell_type": "code",
   "execution_count": 5,
   "id": "7002e181",
   "metadata": {},
   "outputs": [],
   "source": [
    "appliances_metadata_df = DataFrame(list_of_appliances_metadata_dict_data)"
   ]
  },
  {
   "cell_type": "code",
   "execution_count": null,
   "id": "3e9de750",
   "metadata": {},
   "outputs": [],
   "source": [
    "appliances_metadata_df.head()"
   ]
  },
  {
   "cell_type": "code",
   "execution_count": null,
   "id": "684a9ad0-579b-48fa-9ef3-ac5001c50f61",
   "metadata": {},
   "outputs": [],
   "source": [
    "# Inspecting the fields\n",
    "appliances_metadata_df.info()"
   ]
  },
  {
   "cell_type": "code",
   "execution_count": null,
   "id": "cb655e16-2630-463c-b5e8-7ea7460e4dd9",
   "metadata": {},
   "outputs": [],
   "source": [
    "# Questions, Comments, Concerns: \n",
    "\n",
    "# One of the things that stands out to me is the data types. The object data type is flexible in that it can store different types\n",
    "# of data like strings, integers, etc. \n",
    "\n",
    "# The columns do not match in their non-null values, meaning several fields will contain multiple instances of NaN. This could potentially pose \n",
    "# a problem."
   ]
  },
  {
   "cell_type": "code",
   "execution_count": null,
   "id": "84e2aa4b-248a-4a62-ac3c-599aa65a23ef",
   "metadata": {},
   "outputs": [],
   "source": [
    "appliances_metadata_df['related']"
   ]
  },
  {
   "cell_type": "code",
   "execution_count": null,
   "id": "22d0e9a5-bae7-40f6-806b-58df6883b8e6",
   "metadata": {},
   "outputs": [],
   "source": [
    "# This field presents some interesting relationships to the review itself.\n",
    "\n",
    "# Maybe it could be of use in the Group C (Milvus) hybird search query. For example the query given in the overview: “It could \n",
    "# so nearly have been a great fridge, but it's the design that brings it down. The doors are clunky, and the buttons on the \n",
    "# outside are unappealing and cheap looking\" \n",
    "\n",
    "# There's a possibility to use a query like this and the 'related' field to see if that customer bought or viewed a similar product based off the\n",
    "# sentiment in their review for the original product if it was insufficient to their needs. \n"
   ]
  },
  {
   "cell_type": "code",
   "execution_count": 6,
   "id": "8e4e6915",
   "metadata": {},
   "outputs": [],
   "source": [
    "list_of_appliances_reviews_dict_data = [json.loads(line) for line in open('Amazon_Appliances_Reviews.json')]"
   ]
  },
  {
   "cell_type": "code",
   "execution_count": 7,
   "id": "2d42978f",
   "metadata": {},
   "outputs": [],
   "source": [
    "appliances_reviews_df = DataFrame(list_of_appliances_reviews_dict_data)"
   ]
  },
  {
   "cell_type": "code",
   "execution_count": null,
   "id": "660dbf3b",
   "metadata": {},
   "outputs": [],
   "source": [
    "appliances_reviews_df.head()"
   ]
  },
  {
   "cell_type": "code",
   "execution_count": null,
   "id": "5879e480-513e-43fa-a107-1ba643b7a5fa",
   "metadata": {},
   "outputs": [],
   "source": [
    "appliances_reviews_df['unixReviewTime']"
   ]
  },
  {
   "cell_type": "code",
   "execution_count": null,
   "id": "358e1e08-a7aa-4c4f-89b4-8b66f36ccf18",
   "metadata": {},
   "outputs": [],
   "source": [
    "# Questions, Comments, Concerns:\n",
    "\n",
    "# There is obviously a relationship between 'reviewText' and 'summary', but I'm not certain how 'unixReviewTime' is helpful."
   ]
  },
  {
   "cell_type": "code",
   "execution_count": null,
   "id": "af58c65f-a9d7-4822-82a3-22438a6f2217",
   "metadata": {},
   "outputs": [],
   "source": [
    "# Inspecting the fields\n",
    "appliances_reviews_df.info()"
   ]
  },
  {
   "cell_type": "code",
   "execution_count": null,
   "id": "e92dcba4-3638-4e95-9aa9-5f83a3cf7940",
   "metadata": {},
   "outputs": [],
   "source": [
    "# All of the fields but 'reviewName' have the same Non-null count. There might be several anonymous reviewers who left their name out of the review\n",
    "# this shows up as a null value. \n",
    "\n",
    "# I do have concerns in regards to the 'asin' field, in the first table there are 11656 entries, but in the reviews table there are 143685 entries. \n",
    "\n",
    "# The project overview states that the asin is the ID of each product. When looking at both tables, the data type is an object. Why do the product\n",
    "# ID's differ in their specific data types? Shouldn't each ID be the same data type to ensure consistency/efficiency? "
   ]
  },
  {
   "cell_type": "code",
   "execution_count": 8,
   "id": "5324e737-ed03-4808-a38d-2fbc88ffd65d",
   "metadata": {},
   "outputs": [],
   "source": [
    "appliances_reviews_df.to_csv('Amazon_Appliances_Reviews.csv', encoding='utf-8', index=False)"
   ]
  },
  {
   "cell_type": "code",
   "execution_count": 9,
   "id": "bc5d20da",
   "metadata": {},
   "outputs": [],
   "source": [
    "appliances_metadata_df.to_csv('Amazon_Appliances_Metadata.csv', encoding='utf-8', index=False)"
   ]
  },
  {
   "cell_type": "markdown",
   "id": "06b720e1-4ec5-4f6d-953e-438c5c8d631b",
   "metadata": {},
   "source": [
    "## Requirement 1\n",
    "### Create a table that has the list of queries for the group that you selected from the groups (Group A, Group B, Group C) listed in the Final Project - Requirements Specification PDF, and add to it the 3 queries that you created in Phase 1 that belong to the group you selected"
   ]
  },
  {
   "cell_type": "markdown",
   "id": "09f1d56d-6675-46eb-b2bd-fda548dd19bc",
   "metadata": {},
   "source": [
    "| Group | Query | Database \n",
    "| --- | --- | ---| \n",
    "| A | How many products are there in every product subcategory? | Postgres | \n",
    "| A | How many product subcategories are in the provided datasets? | Postgres |\n",
    "| A | What is the average review rating of all reviews? | Postgres |\n",
    "| A | How many unique reviewers? | Postgres |\n",
    "| A | How many reviews for every product subcategory | Postgres |\n",
    "| A | What is the average size (characters/words) of the review text/body? | Postgres |\n",
    "| A | How many reviews submitted every January for years: 2011, 2012, 2013, 2014? | Postgres |\n",
    "| A | How many reviews submitted for every product subcategory every May for years: 2011, 2012, 2013, 2014? | Postgres |\n",
    "| A | What is the average price of every product subcategory that has an average overall rating that is greater than 3? | Postgres |\n",
    "| A | What are the top 3 reviewed products names in every product subcategory? | Postgres |\n",
    "| A | How many products have a rating of less than 3? | Postgres |\n",
    "| A | What is the average number of helpful votes on each review? | Postgres |\n",
    "| A | What is the average price for every product with a perfect rating of 5? | Postgres |"
   ]
  },
  {
   "cell_type": "markdown",
   "id": "68ae83b8-4157-4da4-9032-23775f16aa03",
   "metadata": {},
   "source": [
    "## Requirement 2\n",
    "###  Which database have you selected to implement the queries above? What were your benchmark metrics for the database selected?"
   ]
  },
  {
   "cell_type": "markdown",
   "id": "34b0ed0d-b607-4644-b136-c98b089fe835",
   "metadata": {},
   "source": [
    "#### The database I've chosen to run the queries above is the Postgres database. This database is excellent for Group A (Quantitative) queries. The benchmarks for choosing Postgres were as follows:\n",
    "\n",
    "- PostgreSQL offers robust support for relational data\n",
    "- PostgreSQL is great for aggregations and conditional filtering on complex queries\n",
    "- Offers wide variety of primitive data types such as INTEGER, TEXT, VARCHAR, DATE, NUMERIC, etc.\n",
    "- Known for its reliability, scalability, and advanced features like foreign keys, joins, and stored procedures."
   ]
  },
  {
   "cell_type": "markdown",
   "id": "5c89e995-e5a2-4fde-882d-1fbb43fc8b8d",
   "metadata": {},
   "source": [
    "## Requirement 3\n",
    "### Using the database you selected above, design and develop a database application (insert the data into the database) to host Amazon datasets (Reviews and Metadata)."
   ]
  },
  {
   "cell_type": "code",
   "execution_count": 70,
   "id": "64d61557-39f1-4cc6-9754-585138e0a648",
   "metadata": {},
   "outputs": [
    {
     "name": "stdout",
     "output_type": "stream",
     "text": [
      "Connection to PostgreSQL database successful\n"
     ]
    }
   ],
   "source": [
    "import psycopg2\n",
    "import pandas as pd\n",
    "\n",
    "# Database connection parameters\n",
    "host = \"localhost\"       # Your database host\n",
    "dbname = \"amazon_reviews\"  # Your database name\n",
    "user = \"postgres\"   # Your database username\n",
    "password = \"sql\"  # Your database password\n",
    "\n",
    "# Connect to the PostgreSQL server\n",
    "try:\n",
    "    connection = psycopg2.connect(\n",
    "        host=host,\n",
    "        dbname=dbname,\n",
    "        user=user,\n",
    "        password=password\n",
    "    )\n",
    "    print(\"Connection to PostgreSQL database successful\")\n",
    "except Exception as error:\n",
    "    print(f\"Error: Could not connect to the database. {error}\")\n"
   ]
  },
  {
   "cell_type": "code",
   "execution_count": 71,
   "id": "586cf597-a88a-49d1-bae2-c5c59bbc4bfb",
   "metadata": {},
   "outputs": [],
   "source": [
    "# Merging dataframes\n",
    "amazon_merged_df = pd.merge(appliances_reviews_df, appliances_metadata_df, on='asin')\n"
   ]
  },
  {
   "cell_type": "code",
   "execution_count": 59,
   "id": "ae2d570a-b416-4984-9921-90439f84959f",
   "metadata": {
    "scrolled": true
   },
   "outputs": [
    {
     "data": {
      "text/html": [
       "<div>\n",
       "<style scoped>\n",
       "    .dataframe tbody tr th:only-of-type {\n",
       "        vertical-align: middle;\n",
       "    }\n",
       "\n",
       "    .dataframe tbody tr th {\n",
       "        vertical-align: top;\n",
       "    }\n",
       "\n",
       "    .dataframe thead th {\n",
       "        text-align: right;\n",
       "    }\n",
       "</style>\n",
       "<table border=\"1\" class=\"dataframe\">\n",
       "  <thead>\n",
       "    <tr style=\"text-align: right;\">\n",
       "      <th></th>\n",
       "      <th>reviewerID</th>\n",
       "      <th>asin</th>\n",
       "      <th>reviewerName</th>\n",
       "      <th>helpful</th>\n",
       "      <th>reviewText</th>\n",
       "      <th>overall</th>\n",
       "      <th>summary</th>\n",
       "      <th>unixReviewTime</th>\n",
       "      <th>reviewTime</th>\n",
       "      <th>price</th>\n",
       "      <th>imUrl</th>\n",
       "      <th>description</th>\n",
       "      <th>categories</th>\n",
       "      <th>title</th>\n",
       "      <th>brand</th>\n",
       "      <th>related</th>\n",
       "      <th>salesRank</th>\n",
       "    </tr>\n",
       "  </thead>\n",
       "  <tbody>\n",
       "    <tr>\n",
       "      <th>0</th>\n",
       "      <td>A27HOWZBUBJ8FF</td>\n",
       "      <td>0970408285</td>\n",
       "      <td>Steve</td>\n",
       "      <td>[0, 0]</td>\n",
       "      <td>Could have been longer though. well made and e...</td>\n",
       "      <td>4.0</td>\n",
       "      <td>NaN</td>\n",
       "      <td>1387152000</td>\n",
       "      <td>12 16, 2013</td>\n",
       "      <td>40.75</td>\n",
       "      <td>http://ecx.images-amazon.com/images/I/41kQjPIF...</td>\n",
       "      <td>High-pressure hose 90 end &amp; hose washer instal...</td>\n",
       "      <td>[[Appliances, Parts &amp; Accessories, Washer Part...</td>\n",
       "      <td>NaN</td>\n",
       "      <td>NaN</td>\n",
       "      <td>NaN</td>\n",
       "      <td>NaN</td>\n",
       "    </tr>\n",
       "    <tr>\n",
       "      <th>1</th>\n",
       "      <td>A24HQ894NFSTF5</td>\n",
       "      <td>7301113188</td>\n",
       "      <td>Maha Saqfalhait \"shopaholic! ;)\"</td>\n",
       "      <td>[0, 0]</td>\n",
       "      <td>I like these containers so much i have ordered...</td>\n",
       "      <td>5.0</td>\n",
       "      <td>NaN</td>\n",
       "      <td>1236902400</td>\n",
       "      <td>03 13, 2009</td>\n",
       "      <td>NaN</td>\n",
       "      <td>http://ecx.images-amazon.com/images/I/41EfFOPw...</td>\n",
       "      <td>NaN</td>\n",
       "      <td>[[Appliances, Freezers, Chest Freezers]]</td>\n",
       "      <td>NaN</td>\n",
       "      <td>NaN</td>\n",
       "      <td>NaN</td>\n",
       "      <td>NaN</td>\n",
       "    </tr>\n",
       "    <tr>\n",
       "      <th>2</th>\n",
       "      <td>AXE83MK90ZEVZ</td>\n",
       "      <td>B00002N7HY</td>\n",
       "      <td>Strom</td>\n",
       "      <td>[0, 0]</td>\n",
       "      <td>It works, no fires, etc.  Why not 5 stars?  Ho...</td>\n",
       "      <td>4.0</td>\n",
       "      <td>NaN</td>\n",
       "      <td>1389052800</td>\n",
       "      <td>01 7, 2014</td>\n",
       "      <td>2.29</td>\n",
       "      <td>http://ecx.images-amazon.com/images/I/316Y1KbT...</td>\n",
       "      <td>Built of durable thermoplastic, Leviton Power ...</td>\n",
       "      <td>[[Appliances, Parts &amp; Accessories, Range Parts...</td>\n",
       "      <td>Leviton 5050 50 Amp, 125/250 Volt, NEMA 10-50R...</td>\n",
       "      <td>Leviton</td>\n",
       "      <td>{'also_bought': ['B000BPFZHM', 'B000VU1KC6', '...</td>\n",
       "      <td>NaN</td>\n",
       "    </tr>\n",
       "    <tr>\n",
       "      <th>3</th>\n",
       "      <td>A2J7X7ZIH2EWB1</td>\n",
       "      <td>B00002NATH</td>\n",
       "      <td>NaN</td>\n",
       "      <td>[0, 0]</td>\n",
       "      <td>Fast shipping. Works great</td>\n",
       "      <td>5.0</td>\n",
       "      <td>NaN</td>\n",
       "      <td>1405814400</td>\n",
       "      <td>07 20, 2014</td>\n",
       "      <td>9.13</td>\n",
       "      <td>http://ecx.images-amazon.com/images/I/41srC2QF...</td>\n",
       "      <td>Built of durable thermoplastic, Leviton Power ...</td>\n",
       "      <td>[[Appliances, Parts &amp; Accessories, Range Parts...</td>\n",
       "      <td>Leviton 7313 30 Amp, 125 Volt, NEMA Tt-30R, 2P...</td>\n",
       "      <td>Leviton</td>\n",
       "      <td>{'also_bought': ['B002OUMU66', 'B007HFT034', '...</td>\n",
       "      <td>NaN</td>\n",
       "    </tr>\n",
       "    <tr>\n",
       "      <th>4</th>\n",
       "      <td>AJQFNOFTZ7GOX</td>\n",
       "      <td>B00002NATH</td>\n",
       "      <td>Barthbill</td>\n",
       "      <td>[1, 1]</td>\n",
       "      <td>What can I say? It is the usual Leviton high q...</td>\n",
       "      <td>5.0</td>\n",
       "      <td>NaN</td>\n",
       "      <td>1277164800</td>\n",
       "      <td>06 22, 2010</td>\n",
       "      <td>9.13</td>\n",
       "      <td>http://ecx.images-amazon.com/images/I/41srC2QF...</td>\n",
       "      <td>Built of durable thermoplastic, Leviton Power ...</td>\n",
       "      <td>[[Appliances, Parts &amp; Accessories, Range Parts...</td>\n",
       "      <td>Leviton 7313 30 Amp, 125 Volt, NEMA Tt-30R, 2P...</td>\n",
       "      <td>Leviton</td>\n",
       "      <td>{'also_bought': ['B002OUMU66', 'B007HFT034', '...</td>\n",
       "      <td>NaN</td>\n",
       "    </tr>\n",
       "    <tr>\n",
       "      <th>5</th>\n",
       "      <td>A3EIP4ZCGM0U67</td>\n",
       "      <td>B00002NATH</td>\n",
       "      <td>Christian Fischer</td>\n",
       "      <td>[0, 0]</td>\n",
       "      <td>The Leviton was new in the box.  All screws we...</td>\n",
       "      <td>5.0</td>\n",
       "      <td>NaN</td>\n",
       "      <td>1378339200</td>\n",
       "      <td>09 5, 2013</td>\n",
       "      <td>9.13</td>\n",
       "      <td>http://ecx.images-amazon.com/images/I/41srC2QF...</td>\n",
       "      <td>Built of durable thermoplastic, Leviton Power ...</td>\n",
       "      <td>[[Appliances, Parts &amp; Accessories, Range Parts...</td>\n",
       "      <td>Leviton 7313 30 Amp, 125 Volt, NEMA Tt-30R, 2P...</td>\n",
       "      <td>Leviton</td>\n",
       "      <td>{'also_bought': ['B002OUMU66', 'B007HFT034', '...</td>\n",
       "      <td>NaN</td>\n",
       "    </tr>\n",
       "    <tr>\n",
       "      <th>6</th>\n",
       "      <td>A18N8ND2CH5ZZB</td>\n",
       "      <td>B00002NATH</td>\n",
       "      <td>Donn Dorminey</td>\n",
       "      <td>[0, 0]</td>\n",
       "      <td>When you need one, you need one! But if you ca...</td>\n",
       "      <td>5.0</td>\n",
       "      <td>NaN</td>\n",
       "      <td>1396396800</td>\n",
       "      <td>04 2, 2014</td>\n",
       "      <td>9.13</td>\n",
       "      <td>http://ecx.images-amazon.com/images/I/41srC2QF...</td>\n",
       "      <td>Built of durable thermoplastic, Leviton Power ...</td>\n",
       "      <td>[[Appliances, Parts &amp; Accessories, Range Parts...</td>\n",
       "      <td>Leviton 7313 30 Amp, 125 Volt, NEMA Tt-30R, 2P...</td>\n",
       "      <td>Leviton</td>\n",
       "      <td>{'also_bought': ['B002OUMU66', 'B007HFT034', '...</td>\n",
       "      <td>NaN</td>\n",
       "    </tr>\n",
       "    <tr>\n",
       "      <th>7</th>\n",
       "      <td>A35U08WK3LZ58G</td>\n",
       "      <td>B00002NATH</td>\n",
       "      <td>jim wells</td>\n",
       "      <td>[0, 0]</td>\n",
       "      <td>i needed some way to plug in my camper and thi...</td>\n",
       "      <td>5.0</td>\n",
       "      <td>NaN</td>\n",
       "      <td>1381622400</td>\n",
       "      <td>10 13, 2013</td>\n",
       "      <td>9.13</td>\n",
       "      <td>http://ecx.images-amazon.com/images/I/41srC2QF...</td>\n",
       "      <td>Built of durable thermoplastic, Leviton Power ...</td>\n",
       "      <td>[[Appliances, Parts &amp; Accessories, Range Parts...</td>\n",
       "      <td>Leviton 7313 30 Amp, 125 Volt, NEMA Tt-30R, 2P...</td>\n",
       "      <td>Leviton</td>\n",
       "      <td>{'also_bought': ['B002OUMU66', 'B007HFT034', '...</td>\n",
       "      <td>NaN</td>\n",
       "    </tr>\n",
       "    <tr>\n",
       "      <th>8</th>\n",
       "      <td>A2PMRZGUQQ6V6Q</td>\n",
       "      <td>B00002NATH</td>\n",
       "      <td>John H</td>\n",
       "      <td>[3, 3]</td>\n",
       "      <td>Receptacle is of good quality and should work ...</td>\n",
       "      <td>5.0</td>\n",
       "      <td>NaN</td>\n",
       "      <td>1289606400</td>\n",
       "      <td>11 13, 2010</td>\n",
       "      <td>9.13</td>\n",
       "      <td>http://ecx.images-amazon.com/images/I/41srC2QF...</td>\n",
       "      <td>Built of durable thermoplastic, Leviton Power ...</td>\n",
       "      <td>[[Appliances, Parts &amp; Accessories, Range Parts...</td>\n",
       "      <td>Leviton 7313 30 Amp, 125 Volt, NEMA Tt-30R, 2P...</td>\n",
       "      <td>Leviton</td>\n",
       "      <td>{'also_bought': ['B002OUMU66', 'B007HFT034', '...</td>\n",
       "      <td>NaN</td>\n",
       "    </tr>\n",
       "    <tr>\n",
       "      <th>9</th>\n",
       "      <td>A1BFPCIRWQ3WB9</td>\n",
       "      <td>B00002NATH</td>\n",
       "      <td>John Page</td>\n",
       "      <td>[0, 0]</td>\n",
       "      <td>The unit was of a high quality and was exactly...</td>\n",
       "      <td>5.0</td>\n",
       "      <td>NaN</td>\n",
       "      <td>1394928000</td>\n",
       "      <td>03 16, 2014</td>\n",
       "      <td>9.13</td>\n",
       "      <td>http://ecx.images-amazon.com/images/I/41srC2QF...</td>\n",
       "      <td>Built of durable thermoplastic, Leviton Power ...</td>\n",
       "      <td>[[Appliances, Parts &amp; Accessories, Range Parts...</td>\n",
       "      <td>Leviton 7313 30 Amp, 125 Volt, NEMA Tt-30R, 2P...</td>\n",
       "      <td>Leviton</td>\n",
       "      <td>{'also_bought': ['B002OUMU66', 'B007HFT034', '...</td>\n",
       "      <td>NaN</td>\n",
       "    </tr>\n",
       "  </tbody>\n",
       "</table>\n",
       "</div>"
      ],
      "text/plain": [
       "       reviewerID        asin                      reviewerName helpful  \\\n",
       "0  A27HOWZBUBJ8FF  0970408285                             Steve  [0, 0]   \n",
       "1  A24HQ894NFSTF5  7301113188  Maha Saqfalhait \"shopaholic! ;)\"  [0, 0]   \n",
       "2   AXE83MK90ZEVZ  B00002N7HY                             Strom  [0, 0]   \n",
       "3  A2J7X7ZIH2EWB1  B00002NATH                               NaN  [0, 0]   \n",
       "4   AJQFNOFTZ7GOX  B00002NATH                         Barthbill  [1, 1]   \n",
       "5  A3EIP4ZCGM0U67  B00002NATH                 Christian Fischer  [0, 0]   \n",
       "6  A18N8ND2CH5ZZB  B00002NATH                     Donn Dorminey  [0, 0]   \n",
       "7  A35U08WK3LZ58G  B00002NATH                         jim wells  [0, 0]   \n",
       "8  A2PMRZGUQQ6V6Q  B00002NATH                            John H  [3, 3]   \n",
       "9  A1BFPCIRWQ3WB9  B00002NATH                         John Page  [0, 0]   \n",
       "\n",
       "                                          reviewText  overall  summary  \\\n",
       "0  Could have been longer though. well made and e...      4.0      NaN   \n",
       "1  I like these containers so much i have ordered...      5.0      NaN   \n",
       "2  It works, no fires, etc.  Why not 5 stars?  Ho...      4.0      NaN   \n",
       "3                         Fast shipping. Works great      5.0      NaN   \n",
       "4  What can I say? It is the usual Leviton high q...      5.0      NaN   \n",
       "5  The Leviton was new in the box.  All screws we...      5.0      NaN   \n",
       "6  When you need one, you need one! But if you ca...      5.0      NaN   \n",
       "7  i needed some way to plug in my camper and thi...      5.0      NaN   \n",
       "8  Receptacle is of good quality and should work ...      5.0      NaN   \n",
       "9  The unit was of a high quality and was exactly...      5.0      NaN   \n",
       "\n",
       "   unixReviewTime   reviewTime  price  \\\n",
       "0      1387152000  12 16, 2013  40.75   \n",
       "1      1236902400  03 13, 2009    NaN   \n",
       "2      1389052800   01 7, 2014   2.29   \n",
       "3      1405814400  07 20, 2014   9.13   \n",
       "4      1277164800  06 22, 2010   9.13   \n",
       "5      1378339200   09 5, 2013   9.13   \n",
       "6      1396396800   04 2, 2014   9.13   \n",
       "7      1381622400  10 13, 2013   9.13   \n",
       "8      1289606400  11 13, 2010   9.13   \n",
       "9      1394928000  03 16, 2014   9.13   \n",
       "\n",
       "                                               imUrl  \\\n",
       "0  http://ecx.images-amazon.com/images/I/41kQjPIF...   \n",
       "1  http://ecx.images-amazon.com/images/I/41EfFOPw...   \n",
       "2  http://ecx.images-amazon.com/images/I/316Y1KbT...   \n",
       "3  http://ecx.images-amazon.com/images/I/41srC2QF...   \n",
       "4  http://ecx.images-amazon.com/images/I/41srC2QF...   \n",
       "5  http://ecx.images-amazon.com/images/I/41srC2QF...   \n",
       "6  http://ecx.images-amazon.com/images/I/41srC2QF...   \n",
       "7  http://ecx.images-amazon.com/images/I/41srC2QF...   \n",
       "8  http://ecx.images-amazon.com/images/I/41srC2QF...   \n",
       "9  http://ecx.images-amazon.com/images/I/41srC2QF...   \n",
       "\n",
       "                                         description  \\\n",
       "0  High-pressure hose 90 end & hose washer instal...   \n",
       "1                                                NaN   \n",
       "2  Built of durable thermoplastic, Leviton Power ...   \n",
       "3  Built of durable thermoplastic, Leviton Power ...   \n",
       "4  Built of durable thermoplastic, Leviton Power ...   \n",
       "5  Built of durable thermoplastic, Leviton Power ...   \n",
       "6  Built of durable thermoplastic, Leviton Power ...   \n",
       "7  Built of durable thermoplastic, Leviton Power ...   \n",
       "8  Built of durable thermoplastic, Leviton Power ...   \n",
       "9  Built of durable thermoplastic, Leviton Power ...   \n",
       "\n",
       "                                          categories  \\\n",
       "0  [[Appliances, Parts & Accessories, Washer Part...   \n",
       "1           [[Appliances, Freezers, Chest Freezers]]   \n",
       "2  [[Appliances, Parts & Accessories, Range Parts...   \n",
       "3  [[Appliances, Parts & Accessories, Range Parts...   \n",
       "4  [[Appliances, Parts & Accessories, Range Parts...   \n",
       "5  [[Appliances, Parts & Accessories, Range Parts...   \n",
       "6  [[Appliances, Parts & Accessories, Range Parts...   \n",
       "7  [[Appliances, Parts & Accessories, Range Parts...   \n",
       "8  [[Appliances, Parts & Accessories, Range Parts...   \n",
       "9  [[Appliances, Parts & Accessories, Range Parts...   \n",
       "\n",
       "                                               title    brand  \\\n",
       "0                                                NaN      NaN   \n",
       "1                                                NaN      NaN   \n",
       "2  Leviton 5050 50 Amp, 125/250 Volt, NEMA 10-50R...  Leviton   \n",
       "3  Leviton 7313 30 Amp, 125 Volt, NEMA Tt-30R, 2P...  Leviton   \n",
       "4  Leviton 7313 30 Amp, 125 Volt, NEMA Tt-30R, 2P...  Leviton   \n",
       "5  Leviton 7313 30 Amp, 125 Volt, NEMA Tt-30R, 2P...  Leviton   \n",
       "6  Leviton 7313 30 Amp, 125 Volt, NEMA Tt-30R, 2P...  Leviton   \n",
       "7  Leviton 7313 30 Amp, 125 Volt, NEMA Tt-30R, 2P...  Leviton   \n",
       "8  Leviton 7313 30 Amp, 125 Volt, NEMA Tt-30R, 2P...  Leviton   \n",
       "9  Leviton 7313 30 Amp, 125 Volt, NEMA Tt-30R, 2P...  Leviton   \n",
       "\n",
       "                                             related salesRank  \n",
       "0                                                NaN       NaN  \n",
       "1                                                NaN       NaN  \n",
       "2  {'also_bought': ['B000BPFZHM', 'B000VU1KC6', '...       NaN  \n",
       "3  {'also_bought': ['B002OUMU66', 'B007HFT034', '...       NaN  \n",
       "4  {'also_bought': ['B002OUMU66', 'B007HFT034', '...       NaN  \n",
       "5  {'also_bought': ['B002OUMU66', 'B007HFT034', '...       NaN  \n",
       "6  {'also_bought': ['B002OUMU66', 'B007HFT034', '...       NaN  \n",
       "7  {'also_bought': ['B002OUMU66', 'B007HFT034', '...       NaN  \n",
       "8  {'also_bought': ['B002OUMU66', 'B007HFT034', '...       NaN  \n",
       "9  {'also_bought': ['B002OUMU66', 'B007HFT034', '...       NaN  "
      ]
     },
     "execution_count": 59,
     "metadata": {},
     "output_type": "execute_result"
    }
   ],
   "source": [
    "amazon_merged_df.head(10)"
   ]
  },
  {
   "cell_type": "code",
   "execution_count": null,
   "id": "035da165-561f-4ba0-aa11-c3c3fbeee456",
   "metadata": {},
   "outputs": [],
   "source": [
    "print(amazon_merged_df.dtypes)"
   ]
  },
  {
   "cell_type": "code",
   "execution_count": 72,
   "id": "eb80d781-f47b-443a-a32d-44de9716b8e0",
   "metadata": {},
   "outputs": [],
   "source": [
    "amazon_merged_df['summary'] = pd.to_numeric(amazon_merged_df['summary'], errors='coerce')"
   ]
  },
  {
   "cell_type": "code",
   "execution_count": 68,
   "id": "27af5eee-5c87-4f00-8e98-0c6dd8fb95df",
   "metadata": {},
   "outputs": [
    {
     "data": {
      "text/plain": [
       "0    4.0\n",
       "1    5.0\n",
       "2    4.0\n",
       "3    5.0\n",
       "4    5.0\n",
       "5    5.0\n",
       "6    5.0\n",
       "7    5.0\n",
       "8    5.0\n",
       "9    5.0\n",
       "Name: overall, dtype: float64"
      ]
     },
     "execution_count": 68,
     "metadata": {},
     "output_type": "execute_result"
    }
   ],
   "source": [
    "amazon_merged_df['overall'].head(10)"
   ]
  },
  {
   "cell_type": "code",
   "execution_count": 73,
   "id": "a33dabe8-d2a4-4f21-aa25-52d11f588de8",
   "metadata": {},
   "outputs": [
    {
     "name": "stdout",
     "output_type": "stream",
     "text": [
      "Table created successfully\n"
     ]
    }
   ],
   "source": [
    "# Creating product table\n",
    "cursor = connection.cursor()\n",
    "\n",
    "create_table_query = '''\n",
    "CREATE TABLE IF NOT EXISTS product (\n",
    "    asin TEXT,\n",
    "    imUrl TEXT,\n",
    "    description TEXT,\n",
    "    title TEXT,\n",
    "    brand TEXT,\n",
    "    price DECIMAL(10, 2) \n",
    ");\n",
    "'''\n",
    "\n",
    "try:\n",
    "    cursor.execute(create_table_query)\n",
    "    connection.commit()\n",
    "    print(\"Table created successfully\")\n",
    "except Exception as error:\n",
    "    print(f\"Error: Could not create table. {error}\")\n",
    "finally:\n",
    "    cursor.close()\n"
   ]
  },
  {
   "cell_type": "code",
   "execution_count": 74,
   "id": "df19ecde-47f5-4c55-8fc6-53a194f3adde",
   "metadata": {},
   "outputs": [
    {
     "name": "stdout",
     "output_type": "stream",
     "text": [
      "Table created successfully\n"
     ]
    }
   ],
   "source": [
    "# Creating product_category table\n",
    "cursor = connection.cursor()\n",
    "\n",
    "create_table_query = '''\n",
    "CREATE TABLE IF NOT EXISTS product_category (\n",
    "    asin TEXT,\n",
    "    categories TEXT\n",
    ");\n",
    "'''\n",
    "\n",
    "try:\n",
    "    cursor.execute(create_table_query)\n",
    "    connection.commit()\n",
    "    print(\"Table created successfully\")\n",
    "except Exception as error:\n",
    "    print(f\"Error: Could not create table. {error}\")\n",
    "finally:\n",
    "    cursor.close()"
   ]
  },
  {
   "cell_type": "code",
   "execution_count": 104,
   "id": "4be56a00-717a-47f9-92e2-0d45a0e61f21",
   "metadata": {},
   "outputs": [
    {
     "name": "stdout",
     "output_type": "stream",
     "text": [
      "Table created successfully\n"
     ]
    }
   ],
   "source": [
    "# Creating product_review table\n",
    "cursor = connection.cursor()\n",
    "\n",
    "create_table_query = '''\n",
    "CREATE TABLE IF NOT EXISTS product_review (\n",
    "    asin TEXT,\n",
    "    reviewerID TEXT,\n",
    "    reviewTime TEXT,\n",
    "    summary TEXT,\n",
    "    reviewText TEXT,\n",
    "    overall DECIMAL(10,2)\n",
    ");\n",
    "'''\n",
    "\n",
    "try:\n",
    "    cursor.execute(create_table_query)\n",
    "    connection.commit()\n",
    "    print(\"Table created successfully\")\n",
    "except Exception as error:\n",
    "    print(f\"Error: Could not create table. {error}\")\n",
    "finally:\n",
    "    cursor.close()"
   ]
  },
  {
   "cell_type": "code",
   "execution_count": 103,
   "id": "ae140dbc-fc1d-4e23-b113-4e5e293c277e",
   "metadata": {},
   "outputs": [],
   "source": [
    "connection.rollback()"
   ]
  },
  {
   "cell_type": "code",
   "execution_count": 76,
   "id": "b47fcdc4-f2f8-4373-b4a9-0cca5eae3b9b",
   "metadata": {},
   "outputs": [
    {
     "name": "stdout",
     "output_type": "stream",
     "text": [
      "Table created successfully\n"
     ]
    }
   ],
   "source": [
    "# Creating product_review table\n",
    "cursor = connection.cursor()\n",
    "\n",
    "create_table_query = '''\n",
    "CREATE TABLE IF NOT EXISTS reviewer (\n",
    "    reviewerID TEXT,\n",
    "    reviewerName TEXT\n",
    ");\n",
    "'''\n",
    "\n",
    "try:\n",
    "    cursor.execute(create_table_query)\n",
    "    connection.commit()\n",
    "    print(\"Table created successfully\")\n",
    "except Exception as error:\n",
    "    print(f\"Error: Could not create table. {error}\")\n",
    "finally:\n",
    "    cursor.close()"
   ]
  },
  {
   "cell_type": "code",
   "execution_count": 63,
   "id": "a731f3be-7c5c-48c8-b8ae-79d64712760b",
   "metadata": {},
   "outputs": [],
   "source": [
    "connection.rollback()"
   ]
  },
  {
   "cell_type": "code",
   "execution_count": 100,
   "id": "289a1c4f-1271-4856-9d3d-223bcd044050",
   "metadata": {},
   "outputs": [],
   "source": [
    "import psycopg2.extras\n",
    "\n",
    "def populate_tables(connection):\n",
    "    cursor = connection.cursor()\n",
    "    \n",
    "    for _, row in amazon_merged_df.iterrows():\n",
    "        # Insert into the 'product' table\n",
    "        cursor.execute('INSERT INTO product (asin, imUrl, description, title, brand, price) VALUES (%s, %s, %s, %s, %s, %s)', \n",
    "                       (row['asin'], row['imUrl'], row['description'], row['title'], row['brand'], float(row['price'])))\n",
    "        \n",
    "        # Ensure the 'categories' column is a valid array format (1D array)\n",
    "        categories = row['categories']\n",
    "        \n",
    "        # Handle categories if it's a string format like \"[ 'Electronics', 'Home' ]\"\n",
    "        if isinstance(categories, str):\n",
    "            # Remove unnecessary characters and split by comma\n",
    "            categories = categories.strip(\"[]\").replace(\"'\", \"\").split(\", \")\n",
    "        \n",
    "        # If categories is already a list but is multidimensional, flatten it\n",
    "        if isinstance(categories, list) and any(isinstance(i, list) for i in categories):\n",
    "            categories = [item for sublist in categories for item in sublist]\n",
    "        \n",
    "        # Insert categories into the product_category table as a 1D array\n",
    "        cursor.execute('INSERT INTO product_category (asin, categories) VALUES (%s, %s)', (row['asin'], categories))\n",
    "\n",
    "        \n",
    "        # Insert into the 'product_review' table\n",
    "        cursor.execute('INSERT INTO product_review (asin, reviewerID, reviewTime, summary, reviewText, overall) VALUES (%s, %s, %s, %s, %s, %s)',\n",
    "                       (row['asin'], row['reviewerID'], row['reviewTime'], row['summary'], row['reviewText'], float(row['overall'])))\n",
    "        \n",
    "        # Insert into the 'reviewer' table\n",
    "        cursor.execute('INSERT INTO reviewer (reviewerID, reviewerName) VALUES (%s, %s)', (row['reviewerID'], row['reviewerName']))\n",
    "    \n",
    "    connection.commit()\n",
    "    cursor.close()\n"
   ]
  },
  {
   "cell_type": "code",
   "execution_count": 101,
   "id": "f499176a-b993-4e22-ab3d-e02b633c50ed",
   "metadata": {},
   "outputs": [],
   "source": [
    "populate_tables(connection)"
   ]
  },
  {
   "cell_type": "markdown",
   "id": "2b7b82f0-e00e-4649-8624-b436dd0d7847",
   "metadata": {},
   "source": [
    "## Requirement 4\n",
    "### Create code for the queries listed in Requirement_1 using the database you selected in Requirement_2. You are allowed to use gpt-3.5-turbo to assist you in the code generation."
   ]
  },
  {
   "cell_type": "markdown",
   "id": "c407d253-5427-4d04-a5eb-7b201aea671c",
   "metadata": {},
   "source": [
    "#### All ChatGPT interactions for query recommendations are in a separate PDF file.\n",
    "#### Queries that were entered into the model were prompted by: \n",
    "- I have Amazon reviews dataset. Write me a PostgreSQL query for the following: [query]"
   ]
  },
  {
   "cell_type": "code",
   "execution_count": 79,
   "id": "0607c0e9-9d69-4a11-83bf-a4265e227cc0",
   "metadata": {},
   "outputs": [],
   "source": [
    "def get_table_names(conn):\n",
    "    \"\"\"Return a list of table names.\"\"\"\n",
    "    table_names = []\n",
    "    cursor = connection.cursor()\n",
    "    cursor.execute(\"SELECT table_name FROM information_schema.tables WHERE table_schema='public' AND table_type='BASE TABLE';\")\n",
    "    for table in cursor.fetchall():\n",
    "        table_names.append(table[0])\n",
    "    return table_names\n",
    "\n",
    "\n",
    "def get_column_names(conn, table_name):\n",
    "    \"\"\"Return a list of column names.\"\"\"\n",
    "    column_names = []\n",
    "    cursor = connection.cursor()\n",
    "    cursor.execute(\"SELECT column_name FROM information_schema.columns WHERE table_schema = 'public' AND table_name   = %s;\", [table_name])\n",
    "    for col in cursor.fetchall():\n",
    "        column_names.append(col[0])\n",
    "    return column_names\n",
    "\n",
    "\n",
    "def get_database_info(conn):\n",
    "    \"\"\"Return a list of dicts containing the table name and columns for each table in the database.\"\"\"\n",
    "    table_dicts = []\n",
    "    for table_name in get_table_names(connection):\n",
    "        columns_names = get_column_names(connection, table_name)\n",
    "        table_dicts.append({\"table_name\": table_name, \"column_names\": columns_names})\n",
    "    return table_dicts"
   ]
  },
  {
   "cell_type": "code",
   "execution_count": 80,
   "id": "c71d79e9-56e1-4ae9-9d84-bbfefc771813",
   "metadata": {},
   "outputs": [
    {
     "name": "stdout",
     "output_type": "stream",
     "text": [
      "4 ['product', 'product_category', 'product_review', 'reviewer']\n"
     ]
    }
   ],
   "source": [
    "table_names = get_table_names(connection)\n",
    "print(len(table_names), table_names)"
   ]
  },
  {
   "cell_type": "code",
   "execution_count": 81,
   "id": "d8289ca3-550d-4bfe-94c0-3814628d42af",
   "metadata": {},
   "outputs": [
    {
     "name": "stdout",
     "output_type": "stream",
     "text": [
      "6 ['asin', 'imurl', 'description', 'title', 'brand', 'price']\n"
     ]
    }
   ],
   "source": [
    "column_names_product_table = get_column_names(connection, 'product')\n",
    "print(len(column_names_product_table), column_names_product_table)"
   ]
  },
  {
   "cell_type": "code",
   "execution_count": 82,
   "id": "a7a9ccc8-5379-4023-aacd-d33926ee674d",
   "metadata": {},
   "outputs": [
    {
     "data": {
      "text/plain": [
       "[{'table_name': 'product',\n",
       "  'column_names': ['asin', 'imurl', 'description', 'title', 'brand', 'price']},\n",
       " {'table_name': 'product_category', 'column_names': ['asin', 'categories']},\n",
       " {'table_name': 'product_review',\n",
       "  'column_names': ['asin',\n",
       "   'reviewerid',\n",
       "   'reviewtime',\n",
       "   'summary',\n",
       "   'reviewtext',\n",
       "   'overall']},\n",
       " {'table_name': 'reviewer', 'column_names': ['reviewerid', 'reviewername']}]"
      ]
     },
     "execution_count": 82,
     "metadata": {},
     "output_type": "execute_result"
    }
   ],
   "source": [
    "get_database_info(connection)"
   ]
  },
  {
   "cell_type": "code",
   "execution_count": 83,
   "id": "8f442be9-e92f-4798-ba07-0b9b2516ad02",
   "metadata": {},
   "outputs": [
    {
     "name": "stdout",
     "output_type": "stream",
     "text": [
      "Table: product\n",
      "Columns: asin, imurl, description, title, brand, price\n",
      "Table: product_category\n",
      "Columns: asin, categories\n",
      "Table: product_review\n",
      "Columns: asin, reviewerid, reviewtime, summary, reviewtext, overall\n",
      "Table: reviewer\n",
      "Columns: reviewerid, reviewername\n"
     ]
    }
   ],
   "source": [
    "database_schema_dict = get_database_info(connection)\n",
    "database_schema_string = \"\\n\".join(\n",
    "    [\n",
    "        f\"Table: {table['table_name']}\\nColumns: {', '.join(table['column_names'])}\"\n",
    "        for table in database_schema_dict\n",
    "    ]\n",
    ")\n",
    "\n",
    "print(database_schema_string)"
   ]
  },
  {
   "cell_type": "code",
   "execution_count": 84,
   "id": "2783bac9-8f04-49f7-8cc0-65b4aa1a64b9",
   "metadata": {},
   "outputs": [],
   "source": [
    "functions = [\n",
    "    {\n",
    "        \"name\": \"ask_database\",\n",
    "        \"description\": \"Use this function to answer user questions about Amazon product reviews dataset. Output should be a fully formed SQL query.\",\n",
    "        \"parameters\": {\n",
    "            \"type\": \"object\",\n",
    "            \"properties\": {\n",
    "                \"query\": {\n",
    "                    \"type\": \"string\",\n",
    "                    \"description\": f\"\"\"\n",
    "                            SQL query extracting info to answer the user's question.\n",
    "                            SQL should be written using this database schema:\n",
    "                            {database_schema_string}\n",
    "                            The query should be returned in plain text, not in JSON.\n",
    "                            \"\"\",\n",
    "                }\n",
    "            },\n",
    "            \"required\": [\"query\"],\n",
    "        },\n",
    "    }\n",
    "]"
   ]
  },
  {
   "cell_type": "code",
   "execution_count": 85,
   "id": "fb2d9c68-ab44-443f-af9c-b7e09a7c84c7",
   "metadata": {},
   "outputs": [],
   "source": [
    "def ask_database(connection, query):\n",
    "    \"\"\"Function to query Postgres database with a provided SQL query.\"\"\"\n",
    "    try:\n",
    "        cursor = connection.cursor()\n",
    "        cursor.execute(query)\n",
    "        results = str(cursor.fetchall())\n",
    "    except Exception as e:\n",
    "        results = f\"query failed with error: {e}\"\n",
    "    return results\n",
    "\n",
    "def execute_function_call(message):\n",
    "    if message[\"function_call\"][\"name\"] == \"ask_database\":\n",
    "        query = json.loads(message[\"function_call\"][\"arguments\"])[\"query\"]\n",
    "        results = ask_database(connection, query)\n",
    "    else:\n",
    "        results = f\"Error: function {message['function_call']['name']} does not exist\"\n",
    "    return results"
   ]
  },
  {
   "cell_type": "markdown",
   "id": "f5ff7320-fcda-48b1-addb-999f15a0790f",
   "metadata": {},
   "source": [
    "#### Query 1\n",
    "#### How many products are there in every product subcategory?"
   ]
  },
  {
   "cell_type": "code",
   "execution_count": 86,
   "id": "4fe6fde8-4884-41d5-aa97-75712a0a9208",
   "metadata": {
    "scrolled": true
   },
   "outputs": [
    {
     "name": "stdout",
     "output_type": "stream",
     "text": [
      "Query ran successfully\n"
     ]
    },
    {
     "data": {
      "text/html": [
       "<div>\n",
       "<style scoped>\n",
       "    .dataframe tbody tr th:only-of-type {\n",
       "        vertical-align: middle;\n",
       "    }\n",
       "\n",
       "    .dataframe tbody tr th {\n",
       "        vertical-align: top;\n",
       "    }\n",
       "\n",
       "    .dataframe thead th {\n",
       "        text-align: right;\n",
       "    }\n",
       "</style>\n",
       "<table border=\"1\" class=\"dataframe\">\n",
       "  <thead>\n",
       "    <tr style=\"text-align: right;\">\n",
       "      <th></th>\n",
       "      <th>subcategory</th>\n",
       "      <th>product_count</th>\n",
       "    </tr>\n",
       "  </thead>\n",
       "  <tbody>\n",
       "    <tr>\n",
       "      <th>0</th>\n",
       "      <td>{Appliances</td>\n",
       "      <td>11236</td>\n",
       "    </tr>\n",
       "    <tr>\n",
       "      <th>1</th>\n",
       "      <td>\"Parts &amp; Accessories\"</td>\n",
       "      <td>6063</td>\n",
       "    </tr>\n",
       "    <tr>\n",
       "      <th>2</th>\n",
       "      <td>\"Refrigerator Parts &amp; Accessories\"</td>\n",
       "      <td>1469</td>\n",
       "    </tr>\n",
       "    <tr>\n",
       "      <th>3</th>\n",
       "      <td>\"Parts &amp; Accessories\"}</td>\n",
       "      <td>1220</td>\n",
       "    </tr>\n",
       "    <tr>\n",
       "      <th>4</th>\n",
       "      <td>\"Water Filters\"}</td>\n",
       "      <td>1030</td>\n",
       "    </tr>\n",
       "  </tbody>\n",
       "</table>\n",
       "</div>"
      ],
      "text/plain": [
       "                          subcategory  product_count\n",
       "0                         {Appliances          11236\n",
       "1               \"Parts & Accessories\"           6063\n",
       "2  \"Refrigerator Parts & Accessories\"           1469\n",
       "3              \"Parts & Accessories\"}           1220\n",
       "4                    \"Water Filters\"}           1030"
      ]
     },
     "execution_count": 86,
     "metadata": {},
     "output_type": "execute_result"
    }
   ],
   "source": [
    "cursor = connection.cursor()\n",
    "\n",
    "query = '''\n",
    "SELECT \n",
    "    subcategory,\n",
    "    COUNT(DISTINCT asin) AS product_count\n",
    "FROM \n",
    "    product_category,\n",
    "    LATERAL unnest(string_to_array(categories, ',')) AS subcategory\n",
    "GROUP BY \n",
    "    subcategory\n",
    "ORDER BY \n",
    "    product_count DESC;\n",
    "'''\n",
    "\n",
    "try:\n",
    "    cursor.execute(query)\n",
    "    connection.commit()\n",
    "    print(\"Query ran successfully\")\n",
    "    data = cursor.fetchall()\n",
    "except Exception as error:\n",
    "    print(f\"Error: Could not create query. {error}\")\n",
    "finally:\n",
    "    cursor.close()\n",
    "\n",
    "# Fetch all the rows returned by the executed query\n",
    "# Retrieve column names \n",
    "colnames = [desc[0] for desc in cursor.description]\n",
    "\n",
    "# Create a DataFrame using the fetched data and the column names.\n",
    "query1 = pd.DataFrame(data, columns=colnames)\n",
    "\n",
    "# Display the first five rows.\n",
    "query1.head()\n"
   ]
  },
  {
   "cell_type": "markdown",
   "id": "9829b27c-7fe8-4caa-b5d1-0a43ce9a1a48",
   "metadata": {},
   "source": [
    "#### Query 2\n",
    "#### How many product subcategories are in the provided datasets? "
   ]
  },
  {
   "cell_type": "code",
   "execution_count": 87,
   "id": "145d0238-c772-4885-9099-e4cad07ecd13",
   "metadata": {},
   "outputs": [
    {
     "name": "stdout",
     "output_type": "stream",
     "text": [
      "Query ran successfully\n"
     ]
    },
    {
     "data": {
      "text/html": [
       "<div>\n",
       "<style scoped>\n",
       "    .dataframe tbody tr th:only-of-type {\n",
       "        vertical-align: middle;\n",
       "    }\n",
       "\n",
       "    .dataframe tbody tr th {\n",
       "        vertical-align: top;\n",
       "    }\n",
       "\n",
       "    .dataframe thead th {\n",
       "        text-align: right;\n",
       "    }\n",
       "</style>\n",
       "<table border=\"1\" class=\"dataframe\">\n",
       "  <thead>\n",
       "    <tr style=\"text-align: right;\">\n",
       "      <th></th>\n",
       "      <th>unique_subcategory_count</th>\n",
       "    </tr>\n",
       "  </thead>\n",
       "  <tbody>\n",
       "    <tr>\n",
       "      <th>0</th>\n",
       "      <td>126</td>\n",
       "    </tr>\n",
       "  </tbody>\n",
       "</table>\n",
       "</div>"
      ],
      "text/plain": [
       "   unique_subcategory_count\n",
       "0                       126"
      ]
     },
     "execution_count": 87,
     "metadata": {},
     "output_type": "execute_result"
    }
   ],
   "source": [
    "cursor = connection.cursor()\n",
    "\n",
    "query = '''\n",
    "SELECT \n",
    "    COUNT(DISTINCT subcategory) AS unique_subcategory_count\n",
    "FROM \n",
    "    product_category,\n",
    "    LATERAL unnest(string_to_array(categories, ',')) AS subcategory;\n",
    "'''\n",
    "\n",
    "try:\n",
    "    cursor.execute(query)\n",
    "    connection.commit()\n",
    "    print(\"Query ran successfully\")\n",
    "    data = cursor.fetchall()\n",
    "except Exception as error:\n",
    "    print(f\"Error: Could not create query. {error}\")\n",
    "finally:\n",
    "    cursor.close()\n",
    "\n",
    "# Fetch all the rows returned by the executed query\n",
    "# Retrieve column names \n",
    "colnames = [desc[0] for desc in cursor.description]\n",
    "\n",
    "# Create a DataFrame using the fetched data and the column names.\n",
    "query2 = pd.DataFrame(data, columns=colnames)\n",
    "\n",
    "# Display the first five rows.\n",
    "query2.head()"
   ]
  },
  {
   "cell_type": "markdown",
   "id": "7b380c03-ae9e-4170-9ff3-f9dba86ec1f7",
   "metadata": {},
   "source": [
    "#### Query 3\n",
    "#### What is the average review rating of all reviews? "
   ]
  },
  {
   "cell_type": "code",
   "execution_count": 88,
   "id": "f1b3d45f-3b3e-4465-b5df-bfdaa6ae61c9",
   "metadata": {},
   "outputs": [
    {
     "name": "stdout",
     "output_type": "stream",
     "text": [
      "Query ran successfully\n"
     ]
    },
    {
     "data": {
      "text/html": [
       "<div>\n",
       "<style scoped>\n",
       "    .dataframe tbody tr th:only-of-type {\n",
       "        vertical-align: middle;\n",
       "    }\n",
       "\n",
       "    .dataframe tbody tr th {\n",
       "        vertical-align: top;\n",
       "    }\n",
       "\n",
       "    .dataframe thead th {\n",
       "        text-align: right;\n",
       "    }\n",
       "</style>\n",
       "<table border=\"1\" class=\"dataframe\">\n",
       "  <thead>\n",
       "    <tr style=\"text-align: right;\">\n",
       "      <th></th>\n",
       "      <th>average_rating</th>\n",
       "    </tr>\n",
       "  </thead>\n",
       "  <tbody>\n",
       "    <tr>\n",
       "      <th>0</th>\n",
       "      <td>4.0847200473257473</td>\n",
       "    </tr>\n",
       "  </tbody>\n",
       "</table>\n",
       "</div>"
      ],
      "text/plain": [
       "       average_rating\n",
       "0  4.0847200473257473"
      ]
     },
     "execution_count": 88,
     "metadata": {},
     "output_type": "execute_result"
    }
   ],
   "source": [
    "cursor = connection.cursor()\n",
    "\n",
    "query = '''\n",
    "SELECT AVG(overall) AS average_rating \n",
    "FROM product_review;\n",
    "'''\n",
    "\n",
    "try:\n",
    "    cursor.execute(query)\n",
    "    connection.commit()\n",
    "    print(\"Query ran successfully\")\n",
    "    data = cursor.fetchall()\n",
    "except Exception as error:\n",
    "    print(f\"Error: Could not create query. {error}\")\n",
    "finally:\n",
    "    cursor.close()\n",
    "\n",
    "# Fetch all the rows returned by the executed query\n",
    "# Retrieve column names \n",
    "colnames = [desc[0] for desc in cursor.description]\n",
    "\n",
    "# Create a DataFrame using the fetched data and the column names.\n",
    "query3 = pd.DataFrame(data, columns=colnames)\n",
    "\n",
    "# Display the first five rows.\n",
    "query3.head()"
   ]
  },
  {
   "cell_type": "markdown",
   "id": "bd8d7e28-beed-49c5-bd24-3c749d652588",
   "metadata": {},
   "source": [
    "#### Query 4\n",
    "#### How many unique reviewers?"
   ]
  },
  {
   "cell_type": "code",
   "execution_count": 89,
   "id": "ed360c7d-13d6-49dc-be3e-2b7fdd03153c",
   "metadata": {},
   "outputs": [
    {
     "name": "stdout",
     "output_type": "stream",
     "text": [
      "Query ran successfully\n"
     ]
    },
    {
     "data": {
      "text/html": [
       "<div>\n",
       "<style scoped>\n",
       "    .dataframe tbody tr th:only-of-type {\n",
       "        vertical-align: middle;\n",
       "    }\n",
       "\n",
       "    .dataframe tbody tr th {\n",
       "        vertical-align: top;\n",
       "    }\n",
       "\n",
       "    .dataframe thead th {\n",
       "        text-align: right;\n",
       "    }\n",
       "</style>\n",
       "<table border=\"1\" class=\"dataframe\">\n",
       "  <thead>\n",
       "    <tr style=\"text-align: right;\">\n",
       "      <th></th>\n",
       "      <th>unique_reviewers</th>\n",
       "    </tr>\n",
       "  </thead>\n",
       "  <tbody>\n",
       "    <tr>\n",
       "      <th>0</th>\n",
       "      <td>132002</td>\n",
       "    </tr>\n",
       "  </tbody>\n",
       "</table>\n",
       "</div>"
      ],
      "text/plain": [
       "   unique_reviewers\n",
       "0            132002"
      ]
     },
     "execution_count": 89,
     "metadata": {},
     "output_type": "execute_result"
    }
   ],
   "source": [
    "cursor = connection.cursor()\n",
    "\n",
    "query = '''\n",
    "SELECT COUNT(DISTINCT reviewerid) AS unique_reviewers \n",
    "FROM reviewer;\n",
    "'''\n",
    "\n",
    "try:\n",
    "    cursor.execute(query)\n",
    "    connection.commit()\n",
    "    print(\"Query ran successfully\")\n",
    "    data = cursor.fetchall()\n",
    "except Exception as error:\n",
    "    print(f\"Error: Could not create query. {error}\")\n",
    "finally:\n",
    "    cursor.close()\n",
    "\n",
    "# Fetch all the rows returned by the executed query\n",
    "# Retrieve column names \n",
    "colnames = [desc[0] for desc in cursor.description]\n",
    "\n",
    "# Create a DataFrame using the fetched data and the column names.\n",
    "query4 = pd.DataFrame(data, columns=colnames)\n",
    "\n",
    "# Display the first five rows.\n",
    "query4.head()"
   ]
  },
  {
   "cell_type": "markdown",
   "id": "2576d75b-a586-4a84-b9d7-17578aa661b7",
   "metadata": {},
   "source": [
    "#### Query 5\n",
    "#### How many reviews for every product subcategory?"
   ]
  },
  {
   "cell_type": "code",
   "execution_count": 35,
   "id": "491fdd40-c4f8-4f06-b65f-ce8572e2c767",
   "metadata": {},
   "outputs": [
    {
     "name": "stdout",
     "output_type": "stream",
     "text": [
      "Query ran successfully\n"
     ]
    },
    {
     "data": {
      "text/html": [
       "<div>\n",
       "<style scoped>\n",
       "    .dataframe tbody tr th:only-of-type {\n",
       "        vertical-align: middle;\n",
       "    }\n",
       "\n",
       "    .dataframe tbody tr th {\n",
       "        vertical-align: top;\n",
       "    }\n",
       "\n",
       "    .dataframe thead th {\n",
       "        text-align: right;\n",
       "    }\n",
       "</style>\n",
       "<table border=\"1\" class=\"dataframe\">\n",
       "  <thead>\n",
       "    <tr style=\"text-align: right;\">\n",
       "      <th></th>\n",
       "      <th>categories</th>\n",
       "      <th>review_count</th>\n",
       "    </tr>\n",
       "  </thead>\n",
       "  <tbody>\n",
       "    <tr>\n",
       "      <th>0</th>\n",
       "      <td>{\"Tools &amp; Home Improvement\",\"Rough Plumbing\",\"...</td>\n",
       "      <td>2754</td>\n",
       "    </tr>\n",
       "    <tr>\n",
       "      <th>1</th>\n",
       "      <td>{Appliances,\"Appliance Services\"}</td>\n",
       "      <td>8253</td>\n",
       "    </tr>\n",
       "    <tr>\n",
       "      <th>2</th>\n",
       "      <td>{Appliances,\"Appliance Warranties\"}</td>\n",
       "      <td>6237</td>\n",
       "    </tr>\n",
       "    <tr>\n",
       "      <th>3</th>\n",
       "      <td>{Appliances,\"Beer Keg Refrigerators\"}</td>\n",
       "      <td>578079</td>\n",
       "    </tr>\n",
       "    <tr>\n",
       "      <th>4</th>\n",
       "      <td>{Appliances,\"Beverage Refrigerators\"}</td>\n",
       "      <td>803214</td>\n",
       "    </tr>\n",
       "  </tbody>\n",
       "</table>\n",
       "</div>"
      ],
      "text/plain": [
       "                                          categories  review_count\n",
       "0  {\"Tools & Home Improvement\",\"Rough Plumbing\",\"...          2754\n",
       "1                  {Appliances,\"Appliance Services\"}          8253\n",
       "2                {Appliances,\"Appliance Warranties\"}          6237\n",
       "3              {Appliances,\"Beer Keg Refrigerators\"}        578079\n",
       "4              {Appliances,\"Beverage Refrigerators\"}        803214"
      ]
     },
     "execution_count": 35,
     "metadata": {},
     "output_type": "execute_result"
    }
   ],
   "source": [
    "cursor = connection.cursor()\n",
    "\n",
    "query = '''\n",
    "SELECT pc.categories, COUNT(pr.asin) AS review_count\n",
    "FROM product_category pc\n",
    "JOIN product_review pr ON pc.asin = pr.asin\n",
    "GROUP BY pc.categories;\n",
    "'''\n",
    "\n",
    "try:\n",
    "    cursor.execute(query)\n",
    "    connection.commit()\n",
    "    print(\"Query ran successfully\")\n",
    "    data = cursor.fetchall()\n",
    "except Exception as error:\n",
    "    print(f\"Error: Could not create query. {error}\")\n",
    "finally:\n",
    "    cursor.close()\n",
    "\n",
    "# Fetch all the rows returned by the executed query\n",
    "# Retrieve column names \n",
    "colnames = [desc[0] for desc in cursor.description]\n",
    "\n",
    "# Create a DataFrame using the fetched data and the column names.\n",
    "query5 = pd.DataFrame(data, columns=colnames)\n",
    "\n",
    "# Display the first five rows.\n",
    "query5.head()"
   ]
  },
  {
   "cell_type": "markdown",
   "id": "84ff9e25-eff4-44f2-a86a-353bc077a28b",
   "metadata": {},
   "source": [
    "#### Query 6\n",
    "#### What is the average size (characters/words) of the review text/body?"
   ]
  },
  {
   "cell_type": "code",
   "execution_count": 36,
   "id": "0ddbc746-244a-4bde-b069-25b337b1d7af",
   "metadata": {},
   "outputs": [
    {
     "name": "stdout",
     "output_type": "stream",
     "text": [
      "Query ran successfully\n"
     ]
    },
    {
     "data": {
      "text/html": [
       "<div>\n",
       "<style scoped>\n",
       "    .dataframe tbody tr th:only-of-type {\n",
       "        vertical-align: middle;\n",
       "    }\n",
       "\n",
       "    .dataframe tbody tr th {\n",
       "        vertical-align: top;\n",
       "    }\n",
       "\n",
       "    .dataframe thead th {\n",
       "        text-align: right;\n",
       "    }\n",
       "</style>\n",
       "<table border=\"1\" class=\"dataframe\">\n",
       "  <thead>\n",
       "    <tr style=\"text-align: right;\">\n",
       "      <th></th>\n",
       "      <th>average_review_length_in_characters</th>\n",
       "    </tr>\n",
       "  </thead>\n",
       "  <tbody>\n",
       "    <tr>\n",
       "      <th>0</th>\n",
       "      <td>3.0000000000000000</td>\n",
       "    </tr>\n",
       "  </tbody>\n",
       "</table>\n",
       "</div>"
      ],
      "text/plain": [
       "  average_review_length_in_characters\n",
       "0                  3.0000000000000000"
      ]
     },
     "execution_count": 36,
     "metadata": {},
     "output_type": "execute_result"
    }
   ],
   "source": [
    "cursor = connection.cursor()\n",
    "\n",
    "query = '''\n",
    "SELECT \n",
    "    AVG(LENGTH(reviewtext)) AS average_review_length_in_characters\n",
    "FROM \n",
    "    product_review\n",
    "WHERE \n",
    "    reviewtext IS NOT NULL\n",
    "'''\n",
    "\n",
    "try:\n",
    "    cursor.execute(query)\n",
    "    connection.commit()\n",
    "    print(\"Query ran successfully\")\n",
    "    data = cursor.fetchall()\n",
    "except Exception as error:\n",
    "    print(f\"Error: Could not create query. {error}\")\n",
    "finally:\n",
    "    cursor.close()\n",
    "\n",
    "# Fetch all the rows returned by the executed query\n",
    "# Retrieve column names \n",
    "colnames = [desc[0] for desc in cursor.description]\n",
    "\n",
    "# Create a DataFrame using the fetched data and the column names.\n",
    "query6 = pd.DataFrame(data, columns=colnames)\n",
    "\n",
    "# Display the first five rows.\n",
    "query6.head()"
   ]
  },
  {
   "cell_type": "markdown",
   "id": "92161c44-55a5-46a6-be95-724eb973ea5f",
   "metadata": {},
   "source": [
    "#### Query 7\n",
    "#### How many reviews submitted every January for years: 2011, 2012, 2013, 2014?"
   ]
  },
  {
   "cell_type": "code",
   "execution_count": 37,
   "id": "22f9c915-e306-49b0-87da-b5205e1f37eb",
   "metadata": {},
   "outputs": [
    {
     "name": "stdout",
     "output_type": "stream",
     "text": [
      "Query ran successfully\n"
     ]
    },
    {
     "data": {
      "text/html": [
       "<div>\n",
       "<style scoped>\n",
       "    .dataframe tbody tr th:only-of-type {\n",
       "        vertical-align: middle;\n",
       "    }\n",
       "\n",
       "    .dataframe tbody tr th {\n",
       "        vertical-align: top;\n",
       "    }\n",
       "\n",
       "    .dataframe thead th {\n",
       "        text-align: right;\n",
       "    }\n",
       "</style>\n",
       "<table border=\"1\" class=\"dataframe\">\n",
       "  <thead>\n",
       "    <tr style=\"text-align: right;\">\n",
       "      <th></th>\n",
       "      <th>review_year</th>\n",
       "      <th>review_count</th>\n",
       "    </tr>\n",
       "  </thead>\n",
       "  <tbody>\n",
       "    <tr>\n",
       "      <th>0</th>\n",
       "      <td>2011</td>\n",
       "      <td>2643</td>\n",
       "    </tr>\n",
       "    <tr>\n",
       "      <th>1</th>\n",
       "      <td>2012</td>\n",
       "      <td>4929</td>\n",
       "    </tr>\n",
       "    <tr>\n",
       "      <th>2</th>\n",
       "      <td>2013</td>\n",
       "      <td>14946</td>\n",
       "    </tr>\n",
       "    <tr>\n",
       "      <th>3</th>\n",
       "      <td>2014</td>\n",
       "      <td>20241</td>\n",
       "    </tr>\n",
       "  </tbody>\n",
       "</table>\n",
       "</div>"
      ],
      "text/plain": [
       "  review_year  review_count\n",
       "0        2011          2643\n",
       "1        2012          4929\n",
       "2        2013         14946\n",
       "3        2014         20241"
      ]
     },
     "execution_count": 37,
     "metadata": {},
     "output_type": "execute_result"
    }
   ],
   "source": [
    "cursor = connection.cursor()\n",
    "\n",
    "query = '''\n",
    "SELECT \n",
    "    EXTRACT(YEAR FROM reviewtime::DATE) AS review_year,\n",
    "    COUNT(*) AS review_count\n",
    "FROM \n",
    "    product_review\n",
    "WHERE \n",
    "    EXTRACT(MONTH FROM reviewtime::DATE) = 1\n",
    "    AND EXTRACT(YEAR FROM reviewtime::DATE) IN (2011, 2012, 2013, 2014)\n",
    "GROUP BY \n",
    "    review_year\n",
    "ORDER BY \n",
    "    review_year;\n",
    "'''\n",
    "\n",
    "try:\n",
    "    cursor.execute(query)\n",
    "    connection.commit()\n",
    "    print(\"Query ran successfully\")\n",
    "    data = cursor.fetchall()\n",
    "except Exception as error:\n",
    "    print(f\"Error: Could not create query. {error}\")\n",
    "finally:\n",
    "    cursor.close()\n",
    "\n",
    "# Fetch all the rows returned by the executed query\n",
    "# Retrieve column names \n",
    "colnames = [desc[0] for desc in cursor.description]\n",
    "\n",
    "# Create a DataFrame using the fetched data and the column names.\n",
    "query7 = pd.DataFrame(data, columns=colnames)\n",
    "\n",
    "# Display the first five rows.\n",
    "query7.head()"
   ]
  },
  {
   "cell_type": "markdown",
   "id": "3840d48e-2e1b-4a96-8e88-cbf2390ac3d3",
   "metadata": {},
   "source": [
    "#### Query 8\n",
    "#### How many reviews submitted for every product subcategory every May for years: 2011, 2012, 2013, 2014?"
   ]
  },
  {
   "cell_type": "code",
   "execution_count": 38,
   "id": "aa233638-eba3-41f8-98bd-862e52868267",
   "metadata": {},
   "outputs": [
    {
     "name": "stdout",
     "output_type": "stream",
     "text": [
      "Query ran successfully\n"
     ]
    },
    {
     "data": {
      "text/html": [
       "<div>\n",
       "<style scoped>\n",
       "    .dataframe tbody tr th:only-of-type {\n",
       "        vertical-align: middle;\n",
       "    }\n",
       "\n",
       "    .dataframe tbody tr th {\n",
       "        vertical-align: top;\n",
       "    }\n",
       "\n",
       "    .dataframe thead th {\n",
       "        text-align: right;\n",
       "    }\n",
       "</style>\n",
       "<table border=\"1\" class=\"dataframe\">\n",
       "  <thead>\n",
       "    <tr style=\"text-align: right;\">\n",
       "      <th></th>\n",
       "      <th>review_year</th>\n",
       "      <th>subcategory</th>\n",
       "      <th>review_count</th>\n",
       "    </tr>\n",
       "  </thead>\n",
       "  <tbody>\n",
       "    <tr>\n",
       "      <th>0</th>\n",
       "      <td>2011</td>\n",
       "      <td>\"All-in-One Combination Washers &amp; Dryers\"}</td>\n",
       "      <td>315</td>\n",
       "    </tr>\n",
       "    <tr>\n",
       "      <th>1</th>\n",
       "      <td>2011</td>\n",
       "      <td>\"Beer Keg Refrigerators\"}</td>\n",
       "      <td>1881</td>\n",
       "    </tr>\n",
       "    <tr>\n",
       "      <th>2</th>\n",
       "      <td>2011</td>\n",
       "      <td>\"Beverage Refrigerators\"}</td>\n",
       "      <td>1080</td>\n",
       "    </tr>\n",
       "    <tr>\n",
       "      <th>3</th>\n",
       "      <td>2011</td>\n",
       "      <td>\"Built-In Dishwashers\"}</td>\n",
       "      <td>6975</td>\n",
       "    </tr>\n",
       "    <tr>\n",
       "      <th>4</th>\n",
       "      <td>2011</td>\n",
       "      <td>\"Built-in Thermometers\"}</td>\n",
       "      <td>675</td>\n",
       "    </tr>\n",
       "  </tbody>\n",
       "</table>\n",
       "</div>"
      ],
      "text/plain": [
       "  review_year                                 subcategory  review_count\n",
       "0        2011  \"All-in-One Combination Washers & Dryers\"}           315\n",
       "1        2011                   \"Beer Keg Refrigerators\"}          1881\n",
       "2        2011                   \"Beverage Refrigerators\"}          1080\n",
       "3        2011                     \"Built-In Dishwashers\"}          6975\n",
       "4        2011                    \"Built-in Thermometers\"}           675"
      ]
     },
     "execution_count": 38,
     "metadata": {},
     "output_type": "execute_result"
    }
   ],
   "source": [
    "cursor = connection.cursor()\n",
    "\n",
    "query = '''\n",
    "SELECT \n",
    "    EXTRACT(YEAR FROM reviewtime::DATE) AS review_year,\n",
    "    subcategory, \n",
    "    COUNT(*) AS review_count\n",
    "FROM \n",
    "    product_review\n",
    "JOIN \n",
    "    product_category ON product_review.asin = product_category.asin\n",
    "JOIN \n",
    "    LATERAL unnest(string_to_array(product_category.categories, ',')) AS subcategory ON true\n",
    "WHERE \n",
    "    EXTRACT(MONTH FROM reviewtime::DATE) = 5 \n",
    "    AND EXTRACT(YEAR FROM reviewtime::DATE) IN (2011, 2012, 2013, 2014)\n",
    "GROUP BY \n",
    "    review_year, subcategory\n",
    "ORDER BY \n",
    "    review_year, subcategory;\n",
    "'''\n",
    "\n",
    "try:\n",
    "    cursor.execute(query)\n",
    "    connection.commit()\n",
    "    print(\"Query ran successfully\")\n",
    "    data = cursor.fetchall()\n",
    "except Exception as error:\n",
    "    print(f\"Error: Could not create query. {error}\")\n",
    "finally:\n",
    "    cursor.close()\n",
    "\n",
    "# Fetch all the rows returned by the executed query\n",
    "# Retrieve column names \n",
    "colnames = [desc[0] for desc in cursor.description]\n",
    "\n",
    "# Create a DataFrame using the fetched data and the column names.\n",
    "query8 = pd.DataFrame(data, columns=colnames)\n",
    "\n",
    "# Display the first five rows.\n",
    "query8.head()"
   ]
  },
  {
   "cell_type": "markdown",
   "id": "1a2933e4-522a-4992-a863-f2a39a66ce77",
   "metadata": {},
   "source": [
    "#### It should be noted this query does produce the review_count for each year specified, however I only show the first few rows due to extreme load time. This can be seen in PgAdmin4."
   ]
  },
  {
   "cell_type": "code",
   "execution_count": 55,
   "id": "95c57180-1f58-4d3a-9ab6-fee7f81dd9dc",
   "metadata": {},
   "outputs": [],
   "source": [
    "connection.rollback()"
   ]
  },
  {
   "cell_type": "markdown",
   "id": "4a44847a-866a-4159-a545-50d78b60d68f",
   "metadata": {},
   "source": [
    "#### Query 9\n",
    "#### What is the average price of every product subcategory that has an average overall rating that is greater than 3?"
   ]
  },
  {
   "cell_type": "code",
   "execution_count": null,
   "id": "5e0741c1-34af-496f-9c95-ed58f45448ea",
   "metadata": {},
   "outputs": [],
   "source": [
    "cursor = connection.cursor()\n",
    "\n",
    "query = '''\n",
    "SELECT\n",
    "    subcategory,\n",
    "    AVG(p.price) AS average_price\n",
    "FROM\n",
    "    product_review \n",
    "JOIN\n",
    "    product_category ON product_review.asin = product_category.asin\n",
    "JOIN\n",
    "    LATERAL unnest(string_to_array(pc.categories, ',')) AS subcategory ON true\n",
    "WHERE\n",
    "    AVG(product_review.overall) > 3\n",
    "GROUP BY\n",
    "    subcategory;\n",
    "'''\n",
    "\n",
    "\n",
    "try:\n",
    "    cursor.execute(query)\n",
    "    connection.commit()\n",
    "    print(\"Query ran successfully\")\n",
    "    data = cursor.fetchall()\n",
    "except Exception as error:\n",
    "    print(f\"Error: Could not create query. {error}\")\n",
    "finally:\n",
    "    cursor.close()\n",
    "\n",
    "# Fetch all the rows returned by the executed query\n",
    "# Retrieve column names \n",
    "colnames = [desc[0] for desc in cursor.description]\n",
    "\n",
    "# Create a DataFrame using the fetched data and the column names.\n",
    "query9 = pd.DataFrame(data, columns=colnames)\n",
    "\n",
    "# Display the first five rows.\n",
    "query9.head()"
   ]
  },
  {
   "cell_type": "markdown",
   "id": "583dbce5-1d93-48e7-9173-a22c2d62efcc",
   "metadata": {},
   "source": [
    "#### Query 10 \n",
    "#### What are the top 3 reviewed products names in every product subcategory? "
   ]
  },
  {
   "cell_type": "code",
   "execution_count": 56,
   "id": "bdc18049-2ac1-40eb-a138-b95a5e7e1e16",
   "metadata": {},
   "outputs": [
    {
     "name": "stdout",
     "output_type": "stream",
     "text": [
      "Query ran successfully\n"
     ]
    },
    {
     "data": {
      "text/html": [
       "<div>\n",
       "<style scoped>\n",
       "    .dataframe tbody tr th:only-of-type {\n",
       "        vertical-align: middle;\n",
       "    }\n",
       "\n",
       "    .dataframe tbody tr th {\n",
       "        vertical-align: top;\n",
       "    }\n",
       "\n",
       "    .dataframe thead th {\n",
       "        text-align: right;\n",
       "    }\n",
       "</style>\n",
       "<table border=\"1\" class=\"dataframe\">\n",
       "  <thead>\n",
       "    <tr style=\"text-align: right;\">\n",
       "      <th></th>\n",
       "      <th>subcategory</th>\n",
       "      <th>review_count</th>\n",
       "    </tr>\n",
       "  </thead>\n",
       "  <tbody>\n",
       "    <tr>\n",
       "      <th>0</th>\n",
       "      <td>\"Specialty Dishwashers\"}</td>\n",
       "      <td>18</td>\n",
       "    </tr>\n",
       "    <tr>\n",
       "      <th>1</th>\n",
       "      <td>\"Drop-In Ranges\"}</td>\n",
       "      <td>72</td>\n",
       "    </tr>\n",
       "    <tr>\n",
       "      <th>2</th>\n",
       "      <td>\"Dance &amp; Electronic\"</td>\n",
       "      <td>81</td>\n",
       "    </tr>\n",
       "  </tbody>\n",
       "</table>\n",
       "</div>"
      ],
      "text/plain": [
       "                subcategory  review_count\n",
       "0  \"Specialty Dishwashers\"}            18\n",
       "1         \"Drop-In Ranges\"}            72\n",
       "2      \"Dance & Electronic\"            81"
      ]
     },
     "execution_count": 56,
     "metadata": {},
     "output_type": "execute_result"
    }
   ],
   "source": [
    "cursor = connection.cursor()\n",
    "\n",
    "query = '''\n",
    "SELECT\n",
    "    subcategory, \n",
    "    COUNT(*) AS review_count\n",
    "FROM \n",
    "    product_review\n",
    "JOIN \n",
    "    product_category ON product_review.asin = product_category.asin\n",
    "JOIN \n",
    "    LATERAL unnest(string_to_array(product_category.categories, ',')) AS subcategory ON true\n",
    "GROUP BY \n",
    "    subcategory\n",
    "ORDER BY \n",
    "    review_count, subcategory\n",
    "LIMIT 3;\n",
    "'''\n",
    "\n",
    "try:\n",
    "    cursor.execute(query)\n",
    "    connection.commit()\n",
    "    print(\"Query ran successfully\")\n",
    "    data = cursor.fetchall()\n",
    "except Exception as error:\n",
    "    print(f\"Error: Could not create query. {error}\")\n",
    "finally:\n",
    "    cursor.close()\n",
    "\n",
    "# Fetch all the rows returned by the executed query\n",
    "# Retrieve column names \n",
    "colnames = [desc[0] for desc in cursor.description]\n",
    "\n",
    "# Create a DataFrame using the fetched data and the column names.\n",
    "query10 = pd.DataFrame(data, columns=colnames)\n",
    "\n",
    "# Display the first five rows.\n",
    "query10.head()"
   ]
  },
  {
   "cell_type": "markdown",
   "id": "c886ef69-1239-49e5-b7e2-6936829c45a3",
   "metadata": {},
   "source": [
    "#### Query 11\n",
    "#### How many products have a rating of less than 3?"
   ]
  },
  {
   "cell_type": "code",
   "execution_count": 90,
   "id": "a537b470-6221-4a9d-ae9e-2fc809bbb959",
   "metadata": {},
   "outputs": [
    {
     "name": "stdout",
     "output_type": "stream",
     "text": [
      "Query ran successfully\n"
     ]
    },
    {
     "data": {
      "text/html": [
       "<div>\n",
       "<style scoped>\n",
       "    .dataframe tbody tr th:only-of-type {\n",
       "        vertical-align: middle;\n",
       "    }\n",
       "\n",
       "    .dataframe tbody tr th {\n",
       "        vertical-align: top;\n",
       "    }\n",
       "\n",
       "    .dataframe thead th {\n",
       "        text-align: right;\n",
       "    }\n",
       "</style>\n",
       "<table border=\"1\" class=\"dataframe\">\n",
       "  <thead>\n",
       "    <tr style=\"text-align: right;\">\n",
       "      <th></th>\n",
       "      <th>count</th>\n",
       "    </tr>\n",
       "  </thead>\n",
       "  <tbody>\n",
       "    <tr>\n",
       "      <th>0</th>\n",
       "      <td>125157</td>\n",
       "    </tr>\n",
       "  </tbody>\n",
       "</table>\n",
       "</div>"
      ],
      "text/plain": [
       "    count\n",
       "0  125157"
      ]
     },
     "execution_count": 90,
     "metadata": {},
     "output_type": "execute_result"
    }
   ],
   "source": [
    "cursor = connection.cursor()\n",
    "\n",
    "query = '''\n",
    "SELECT COUNT(*)\n",
    "FROM product p\n",
    "WHERE p.asin IN (\n",
    "    SELECT pr.asin\n",
    "    FROM product_review pr\n",
    "    WHERE overall < 3\n",
    ");\n",
    "'''\n",
    "\n",
    "try:\n",
    "    cursor.execute(query)\n",
    "    connection.commit()\n",
    "    print(\"Query ran successfully\")\n",
    "    data = cursor.fetchall()\n",
    "except Exception as error:\n",
    "    print(f\"Error: Could not create query. {error}\")\n",
    "finally:\n",
    "    cursor.close()\n",
    "\n",
    "# Fetch all the rows returned by the executed query\n",
    "# Retrieve column names \n",
    "colnames = [desc[0] for desc in cursor.description]\n",
    "\n",
    "# Create a DataFrame using the fetched data and the column names.\n",
    "query11 = pd.DataFrame(data, columns=colnames)\n",
    "\n",
    "# Display the first five rows.\n",
    "query11.head()"
   ]
  },
  {
   "cell_type": "markdown",
   "id": "ee364e53-9100-41f2-a6a7-1ec9dd767e0e",
   "metadata": {},
   "source": [
    "#### Query 12\n",
    "#### What is the average number of helpful votes on each review?"
   ]
  },
  {
   "cell_type": "code",
   "execution_count": 60,
   "id": "56b31a67-dce0-4aff-85ba-c2db7fb098f8",
   "metadata": {},
   "outputs": [
    {
     "name": "stdout",
     "output_type": "stream",
     "text": [
      "Error: Could not create query. column \"helpful_votes\" does not exist\n",
      "LINE 4:     AVG(helpful_votes) AS average_helpful_votes\n",
      "                ^\n",
      "\n"
     ]
    },
    {
     "ename": "TypeError",
     "evalue": "'NoneType' object is not iterable",
     "output_type": "error",
     "traceback": [
      "\u001b[1;31m---------------------------------------------------------------------------\u001b[0m",
      "\u001b[1;31mTypeError\u001b[0m                                 Traceback (most recent call last)",
      "Cell \u001b[1;32mIn[60], line 28\u001b[0m\n\u001b[0;32m     24\u001b[0m     cursor\u001b[38;5;241m.\u001b[39mclose()\n\u001b[0;32m     26\u001b[0m \u001b[38;5;66;03m# Fetch all the rows returned by the executed query\u001b[39;00m\n\u001b[0;32m     27\u001b[0m \u001b[38;5;66;03m# Retrieve column names \u001b[39;00m\n\u001b[1;32m---> 28\u001b[0m colnames \u001b[38;5;241m=\u001b[39m [desc[\u001b[38;5;241m0\u001b[39m] \u001b[38;5;28;01mfor\u001b[39;00m desc \u001b[38;5;129;01min\u001b[39;00m cursor\u001b[38;5;241m.\u001b[39mdescription]\n\u001b[0;32m     30\u001b[0m \u001b[38;5;66;03m# Create a DataFrame using the fetched data and the column names.\u001b[39;00m\n\u001b[0;32m     31\u001b[0m query12 \u001b[38;5;241m=\u001b[39m pd\u001b[38;5;241m.\u001b[39mDataFrame(data, columns\u001b[38;5;241m=\u001b[39mcolnames)\n",
      "\u001b[1;31mTypeError\u001b[0m: 'NoneType' object is not iterable"
     ]
    }
   ],
   "source": [
    "cursor = connection.cursor()\n",
    "\n",
    "query = '''\n",
    "SELECT\n",
    "    pr.asin,\n",
    "    AVG(helpful_votes) AS average_helpful_votes\n",
    "FROM\n",
    "    product_review pr\n",
    "GROUP BY\n",
    "    pr.asin\n",
    "ORDER BY\n",
    "    average_helpful_votes DESC;\n",
    ";\n",
    "'''\n",
    "\n",
    "try:\n",
    "    cursor.execute(query)\n",
    "    connection.commit()\n",
    "    print(\"Query ran successfully\")\n",
    "    data = cursor.fetchall()\n",
    "except Exception as error:\n",
    "    print(f\"Error: Could not create query. {error}\")\n",
    "finally:\n",
    "    cursor.close()\n",
    "\n",
    "# Fetch all the rows returned by the executed query\n",
    "# Retrieve column names \n",
    "colnames = [desc[0] for desc in cursor.description]\n",
    "\n",
    "# Create a DataFrame using the fetched data and the column names.\n",
    "query12 = pd.DataFrame(data, columns=colnames)\n",
    "\n",
    "# Display the first five rows.\n",
    "query12.head()"
   ]
  },
  {
   "cell_type": "markdown",
   "id": "56b0b746-7297-43e5-b7bc-abdff66f2529",
   "metadata": {},
   "source": [
    "#### Query 13\n",
    "#### What is the average price for every product with a perfect rating of 5?"
   ]
  },
  {
   "cell_type": "code",
   "execution_count": 102,
   "id": "34182dba-dc0d-4d83-8a72-458fe1db39fa",
   "metadata": {},
   "outputs": [
    {
     "name": "stdout",
     "output_type": "stream",
     "text": [
      "Query ran successfully\n"
     ]
    },
    {
     "data": {
      "text/html": [
       "<div>\n",
       "<style scoped>\n",
       "    .dataframe tbody tr th:only-of-type {\n",
       "        vertical-align: middle;\n",
       "    }\n",
       "\n",
       "    .dataframe tbody tr th {\n",
       "        vertical-align: top;\n",
       "    }\n",
       "\n",
       "    .dataframe thead th {\n",
       "        text-align: right;\n",
       "    }\n",
       "</style>\n",
       "<table border=\"1\" class=\"dataframe\">\n",
       "  <thead>\n",
       "    <tr style=\"text-align: right;\">\n",
       "      <th></th>\n",
       "      <th>asin</th>\n",
       "      <th>average_price</th>\n",
       "    </tr>\n",
       "  </thead>\n",
       "  <tbody>\n",
       "    <tr>\n",
       "      <th>0</th>\n",
       "      <td>7301113188</td>\n",
       "      <td>NaN</td>\n",
       "    </tr>\n",
       "    <tr>\n",
       "      <th>1</th>\n",
       "      <td>B00002NATH</td>\n",
       "      <td>9.13</td>\n",
       "    </tr>\n",
       "    <tr>\n",
       "      <th>2</th>\n",
       "      <td>B00004SQH5</td>\n",
       "      <td>7.38</td>\n",
       "    </tr>\n",
       "    <tr>\n",
       "      <th>3</th>\n",
       "      <td>B00004SQHD</td>\n",
       "      <td>18.03</td>\n",
       "    </tr>\n",
       "    <tr>\n",
       "      <th>4</th>\n",
       "      <td>B00004SQHH</td>\n",
       "      <td>14.94</td>\n",
       "    </tr>\n",
       "  </tbody>\n",
       "</table>\n",
       "</div>"
      ],
      "text/plain": [
       "         asin average_price\n",
       "0  7301113188           NaN\n",
       "1  B00002NATH          9.13\n",
       "2  B00004SQH5          7.38\n",
       "3  B00004SQHD         18.03\n",
       "4  B00004SQHH         14.94"
      ]
     },
     "execution_count": 102,
     "metadata": {},
     "output_type": "execute_result"
    }
   ],
   "source": [
    "cursor = connection.cursor()\n",
    "\n",
    "query = '''\n",
    "SELECT\n",
    "    p.asin, \n",
    "    ROUND(AVG(p.price)::numeric, 2) AS average_price\n",
    "FROM\n",
    "    product_review pr\n",
    "JOIN\n",
    "    product p ON pr.asin = p.asin\n",
    "WHERE\n",
    "    pr.overall = 5 \n",
    "GROUP BY\n",
    "    p.asin;\n",
    "'''\n",
    "\n",
    "try:\n",
    "    cursor.execute(query)\n",
    "    connection.commit()\n",
    "    print(\"Query ran successfully\")\n",
    "    data = cursor.fetchall()\n",
    "except Exception as error:\n",
    "    print(f\"Error: Could not create query. {error}\")\n",
    "finally:\n",
    "    cursor.close()\n",
    "\n",
    "# Fetch all the rows returned by the executed query\n",
    "# Retrieve column names \n",
    "colnames = [desc[0] for desc in cursor.description]\n",
    "\n",
    "# Create a DataFrame using the fetched data and the column names.\n",
    "query13 = pd.DataFrame(data, columns=colnames)\n",
    "\n",
    "# Display the first five rows.\n",
    "query13.head()"
   ]
  }
 ],
 "metadata": {
  "kernelspec": {
   "display_name": "Python 3 (ipykernel)",
   "language": "python",
   "name": "python3"
  },
  "language_info": {
   "codemirror_mode": {
    "name": "ipython",
    "version": 3
   },
   "file_extension": ".py",
   "mimetype": "text/x-python",
   "name": "python",
   "nbconvert_exporter": "python",
   "pygments_lexer": "ipython3",
   "version": "3.12.7"
  }
 },
 "nbformat": 4,
 "nbformat_minor": 5
}
